


# Import the required libraries and dependencies
import pandas as pd
import hvplot.pandas
from pathlib import Path





# Using the read_csv function and Path module, create a DataFrame 
# by importing the sfo_neighborhoods_census_data.csv file from the Resources folder
sfo_data_df = pd.read_csv(Path('sfo_neighborhoods_census_data.csv'))

# Review the first and last five rows of the DataFrame
display(sfo_data_df.head(),
        sfo_data_df.tail()
       )











# Create a numerical aggregation that groups the data by the year and then averages the results.
housing_units_by_year = sfo_data_df.groupby('year').mean('housing_units').drop(columns = 'gross_rent').drop(columns = 'sale_price_sqr_foot')

# Review the DataFrame
housing_units_by_year





# Create a visual aggregation explore the housing units by year
housing_units_by_year.hvplot.bar(
    xlabel = 'Year',
    ylabel = 'Housing Units', 
    ylim = (365000, 387500)
).opts(yformatter = '%.0f')

















# Create a numerical aggregation by grouping the data by year and averaging the results
prices_square_foot_by_year = sfo_data_df.groupby('year').mean('sale_price_sqr_foot', 'gross_rent')

# Review the resulting DataFrame
prices_square_foot_by_year








# Filter out the housing_units column, creating a new DataFrame 
# Keep only sale_price_sqr_foot and gross_rent averages per year
del prices_square_foot_by_year['housing_units']

# Review the DataFrame
prices_square_foot_by_year





# Plot prices_square_foot_by_year. 
# Inclued labels for the x- and y-axes, and a title.
prices_square_foot_by_year.hvplot.line(
    xlabel = 'Year',
    ylabel = 'USD',
    title = 'Sale Price per Square Foot and Gross Rent'
)




















# Group by year and neighborhood and then create a new dataframe of the mean values
prices_by_year_by_neighborhood = sfo_data_df.groupby(['year', 'neighborhood']).mean()

# Review the DataFrame
prices_by_year_by_neighborhood





# Filter out the housing_units
del prices_by_year_by_neighborhood['housing_units']

# Review the first and last five rows of the DataFrame
display(prices_by_year_by_neighborhood.head(),
        prices_by_year_by_neighborhood.tail()
       )





# Use hvplot to create an interactive line plot of the average price per square foot
# The plot should have a dropdown selector for the neighborhood
prices_by_year_by_neighborhood.hvplot.line(
    xlabel = 'Year',
    ylabel = 'USD',
    title = 'Sale Price per Sq. ft. and Gross Rent grouped by Neighborhood',
    groupby = 'neighborhood'
)

















# Load neighborhoods coordinates data
neighborhood_locations_df = pd.read_csv(Path('neighborhoods_coordinates.csv'))

# Review the DataFrame
neighborhood_locations_df = neighborhood_locations_df.set_index('Neighborhood')
neighborhood_locations_df





# Calculate the mean values for each neighborhood
all_neighborhood_info_df = sfo_data_df.groupby('neighborhood', as_index = True).mean()

# Review the resulting DataFrame
all_neighborhood_info_df = all_neighborhood_info_df.drop(columns = 'year')
all_neighborhood_info_df





# Using the Pandas `concat` function, join the 
# neighborhood_locations_df and the all_neighborhood_info_df DataFrame
# The axis of the concatenation is "columns".
# The concat function will automatically combine columns with
# identical information, while keeping the additional columns.
all_neighborhoods_df = pd.concat(
    [neighborhood_locations_df, all_neighborhood_info_df], 
    axis = 'columns',
    sort = False
)

# Review the resulting DataFrame
display(all_neighborhoods_df.head())
display(all_neighborhoods_df.tail())


# Call the dropna function to remove any neighborhoods that do not have data
all_neighborhoods_df = all_neighborhoods_df.reset_index().dropna()

# Rename the "index" column as "Neighborhood" for use in the Visualization
all_neighborhoods_df = all_neighborhoods_df.rename(columns={"index": "Neighborhood"})


# Review the resulting DataFrame
display(all_neighborhoods_df.head())
display(all_neighborhoods_df.tail())





# Create a plot to analyze neighborhood info
all_neighborhoods_df.hvplot.points(
    'Lon',
    'Lat',
    geo = True, 
    size = 'sale_price_sqr_foot',
    color = 'gross_rent',
    tiles = 'OSM',
    frame_width = 700,
    frame_height = 500,
)


















